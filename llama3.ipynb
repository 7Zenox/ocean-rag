{
 "cells": [
  {
   "cell_type": "code",
   "execution_count": null,
   "metadata": {},
   "outputs": [],
   "source": [
    "import pandas as pd\n",
    "import numpy as np\n",
    "import geopandas as gpd\n",
    "import geodatasets\n",
    "import matplotlib.pyplot as plt\n",
    "from matplotlib.colors import ListedColormap\n",
    "from mlx_lm import load, generate"
   ]
  },
  {
   "cell_type": "code",
   "execution_count": null,
   "metadata": {},
   "outputs": [],
   "source": [
    "# Load the coral data\n",
    "coral_data = pd.read_csv('deep_sea_corals.csv', usecols=['latitude', 'longitude', 'DepthInMeters'])\n",
    "\n",
    "# Drop the first row as requested\n",
    "coral_data = coral_data.drop(0)\n",
    "\n",
    "# Ensure the columns are the correct dtype\n",
    "coral_data['latitude'] = pd.to_numeric(coral_data['latitude'], errors='coerce')\n",
    "coral_data['longitude'] = pd.to_numeric(coral_data['longitude'], errors='coerce')\n",
    "coral_data['DepthInMeters'] = pd.to_numeric(coral_data['DepthInMeters'], errors='coerce')"
   ]
  },
  {
   "cell_type": "code",
   "execution_count": null,
   "metadata": {},
   "outputs": [],
   "source": [
    "# Drop rows with invalid data\n",
    "coral_data = coral_data.dropna(subset=['latitude', 'longitude', 'DepthInMeters'])\n",
    "\n",
    "# Create a GeoDataFrame for coral data\n",
    "coral_gdf = gpd.GeoDataFrame(coral_data, geometry=gpd.points_from_xy(coral_data.longitude, coral_data.latitude))\n",
    "\n",
    "# Load the temperature data without headers\n",
    "temperature_data = pd.read_csv('temperature.CSV', header=None)\n",
    "\n",
    "# Load the custom colormap from the .act file\n",
    "def read_act_file(file_path):\n",
    "    with open(file_path, 'rb') as f:\n",
    "        colors = np.frombuffer(f.read(), dtype=np.uint8)\n",
    "    colors = colors.reshape((-1, 3)) / 255.0  # Normalize the colors\n",
    "    return ListedColormap(colors)\n",
    "\n",
    "custom_cmap = read_act_file('sst_35.act')\n",
    "\n",
    "# Load a world map from a local file\n",
    "world = gpd.read_file('110m_cultural/ne_110m_admin_0_countries.shp')\n",
    "\n",
    "# Get the dimensions of the temperature data\n",
    "# temp_height, temp_width = temperature_data.shape\n",
    "\n",
    "# Plot the temperature data as a heatmap using the custom colormap\n",
    "fig, ax1 = plt.subplots(1, 1, figsize=(15, 10))\n",
    "world.boundary.plot(ax=ax1, linewidth=1, color='black')\n",
    "plt.imshow(temperature_data, cmap=custom_cmap, alpha=0.6, extent=[-180, 180, -90, 90])\n",
    "plt.title('Global Temperature Data')\n",
    "plt.xlabel('Longitude')\n",
    "plt.ylabel('Latitude')\n",
    "plt.show()\n",
    "\n",
    "# Plot the coral data with color based on depth\n",
    "fig, ax2 = plt.subplots(1, 1, figsize=(15, 10))\n",
    "world.boundary.plot(ax=ax2, linewidth=1, color='black')\n",
    "coral_gdf.plot(ax=ax2, column='DepthInMeters', cmap='viridis', markersize=5, alpha=0.6, legend=True)\n",
    "plt.title('Deep Sea Corals Locations with Depth')\n",
    "plt.xlabel('Longitude')\n",
    "plt.ylabel('Latitude')\n",
    "plt.show()"
   ]
  },
  {
   "cell_type": "code",
   "execution_count": null,
   "metadata": {},
   "outputs": [],
   "source": [
    "# Ensure the columns are the correct dtype\n",
    "df['latitude'] = pd.to_numeric(df['latitude'], errors='coerce')\n",
    "df['longitude'] = pd.to_numeric(df['longitude'], errors='coerce')\n",
    "df['DepthInMeters'] = pd.to_numeric(df['DepthInMeters'], errors='coerce')\n",
    "\n",
    "# Drop rows with invalid data\n",
    "df = df.dropna(subset=['latitude', 'longitude', 'DepthInMeters'])\n",
    "\n",
    "# Create a GeoDataFrame\n",
    "gdf = gpd.GeoDataFrame(df, geometry=gpd.points_from_xy(df.longitude, df.latitude))\n",
    "\n",
    "# Load a world map from a local file (adjust path as necessary)\n",
    "world = gpd.read_file('110m_cultural/ne_110m_admin_0_countries.shp')\n",
    "\n",
    "# Plot the data\n",
    "fig, ax = plt.subplots(1, 1, figsize=(15, 10))\n",
    "world.plot(ax=ax, color='lightgrey')\n",
    "\n",
    "# Plot the GeoDataFrame with color based on depth\n",
    "sc = gdf.plot(ax=ax, column='DepthInMeters', cmap='viridis', markersize=5, alpha=0.6, legend=True)\n",
    "plt.title('Deep Sea Corals Locations with Depth')\n",
    "plt.xlabel('Longitude')\n",
    "plt.ylabel('Latitude')\n",
    "plt.show()"
   ]
  },
  {
   "cell_type": "code",
   "execution_count": null,
   "metadata": {},
   "outputs": [],
   "source": [
    "df"
   ]
  },
  {
   "cell_type": "code",
   "execution_count": null,
   "metadata": {},
   "outputs": [],
   "source": [
    "# Count the number of rows in data/its_over.jsonl\n",
    "n = 0\n",
    "with open('data/its_over.jsonl') as f:\n",
    "    for _ in f:\n",
    "        n += 1\n",
    "\n",
    "# Split the json data into train test val\n",
    "train = df.iloc[:int(1*n)]\n",
    "test = df.iloc[int(0.8*n):int(0.9*n)]\n",
    "val = df.iloc[int(0.9*n):]\n",
    "\n",
    "# Save the train test val to their respective files as jsonl\n",
    "train.to_json('data/train.jsonl', orient='records', lines=True)\n",
    "test.to_json('data/test.jsonl', orient='records', lines=True)\n",
    "val.to_json('data/val.jsonl', orient='records', lines=True)"
   ]
  },
  {
   "cell_type": "code",
   "execution_count": null,
   "metadata": {},
   "outputs": [],
   "source": [
    "from mlx_lm import load, generate\n",
    "\n",
    "model, tokenizer = load(\"mlx-community/Meta-Llama-3-8B-Instruct-4bit\")"
   ]
  },
  {
   "cell_type": "code",
   "execution_count": null,
   "metadata": {},
   "outputs": [],
   "source": [
    "response = generate(model, tokenizer, prompt=\"\")"
   ]
  },
  {
   "cell_type": "code",
   "execution_count": null,
   "metadata": {},
   "outputs": [],
   "source": [
    "print(response)"
   ]
  },
  {
   "cell_type": "code",
   "execution_count": null,
   "metadata": {},
   "outputs": [],
   "source": [
    "python3 lora.py \\\n",
    "   --model meta-llama/Llama-3-7b-hf \\\n",
    "   --train \\\n",
    "   --batch-size 1 \\\n",
    "   --lora-layers 4"
   ]
  }
 ],
 "metadata": {
  "kernelspec": {
   "display_name": "Python 3",
   "language": "python",
   "name": "python3"
  },
  "language_info": {
   "codemirror_mode": {
    "name": "ipython",
    "version": 3
   },
   "file_extension": ".py",
   "mimetype": "text/x-python",
   "name": "python",
   "nbconvert_exporter": "python",
   "pygments_lexer": "ipython3",
   "version": "3.11.6"
  }
 },
 "nbformat": 4,
 "nbformat_minor": 2
}
